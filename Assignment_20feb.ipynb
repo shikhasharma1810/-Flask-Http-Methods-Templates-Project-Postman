{
 "cells": [
  {
   "cell_type": "code",
   "execution_count": null,
   "id": "1ca53659-9bb6-4672-ba9e-b9fddcf4a699",
   "metadata": {},
   "outputs": [],
   "source": [
    "Q1. Explain GET and POST methods.\n",
    "\n",
    "GET\n",
    "Retrieves data from a server and displays it in the browser. GET requests are intended to retrieve data from a server and\n",
    "do not modify the server's state. GET sends data in the URL as a query string. Data is visible to everyone in the URL.\n",
    "Hence it is only used to view something and not to change it.\n",
    "Get request is better for the data which does not need to be secure (It means the data which does not contain images or \n",
    "Word documents).\n",
    "\n",
    "POST\n",
    "Sends data to the server for processing. POST requests are used to send data to the server for processing and may modify \n",
    "the server's state. POST sends data in the request body. Data is not displayed in the URL which makes it more secure\n",
    "way of transferring data from client to server."
   ]
  },
  {
   "cell_type": "code",
   "execution_count": null,
   "id": "9f44e2b2-0cd0-41e6-a9c1-dbb3e82223c6",
   "metadata": {},
   "outputs": [],
   "source": [
    "Q2. Why is request used in Flask?\n",
    "\n",
    "In a Flask App, we have our own Webpage (Client) and a Server. The Server should process the data. The Request, in Flask,\n",
    "is an object that contains all the data sent from the Client to Server. \n",
    "The request object is used in Flask to access data sent from the client to the server. This data can be recovered using\n",
    "the GET/POST methods.\n",
    "\n",
    "Here are some of the reasons why the request object is used in Flask:\n",
    "    \n",
    "a. To access the data sent from the client to the server.\n",
    "b. To process the request data from the server.\n",
    "c. To perform both sending and receiving operations from a user's browser to the server.\n",
    "d. To house all the information such as text data, images, videos, and key-value pairs."
   ]
  },
  {
   "cell_type": "code",
   "execution_count": null,
   "id": "a6c16930-79c3-48f9-b49b-25a128a03edb",
   "metadata": {},
   "outputs": [],
   "source": [
    "Q3. Why is redirect() used in Flask?\n",
    "\n",
    "Flask class has a redirect() function. When called, it returns a response object and redirects the user to another target \n",
    "location with specified status code.\n",
    "\n",
    "Prototype of redirect() function is as below −\n",
    "\n",
    "Flask.redirect(location, statuscode, response)\n",
    "\n",
    "In the above function −\n",
    "\n",
    "location parameter is the URL where response should be redirected.\n",
    "statuscode sent to browser’s header, defaults to 302.\n",
    "response parameter is used to instantiate(to represent or be an example of something) response.\n",
    "\n",
    "The following status codes are standardized −\n",
    "\n",
    "HTTP_300_MULTIPLE_CHOICES\n",
    "HTTP_301_MOVED_PERMANENTLY\n",
    "HTTP_302_FOUND\n",
    "HTTP_303_SEE_OTHER\n",
    "HTTP_304_NOT_MODIFIED\n",
    "HTTP_305_USE_PROXY\n",
    "HTTP_306_RESERVED\n",
    "HTTP_307_TEMPORARY_REDIRECT\n",
    "\n",
    "The default status code is 302, which is for ‘found’."
   ]
  },
  {
   "cell_type": "code",
   "execution_count": null,
   "id": "404fd551-db24-4ba3-863e-10c39a10104a",
   "metadata": {},
   "outputs": [],
   "source": [
    "Q4. What are templates in Flask? Why is the render_template() function used?\n",
    "\n",
    "A template is rendered with specific data to produce a final document. Flask uses the Jinja2 template library to render\n",
    "templates. In our application, we will use templates to render HTML which will display in the user's browser.\n",
    "\n",
    "The render_template() function is used to render a Jinja2 template to an HTML page for display on web browser. It takes \n",
    "the name of the template file as its argument and optionally a dictionary of data to be passed to the template.\n",
    "The template can then use this data to generate the dynamic content.\n",
    "\n",
    "For example, the following code shows how to render a template called index.html:\n",
    "    \n",
    "from flask import render_template\n",
    "\n",
    "@app.route(\"/\")\n",
    "def index():\n",
    "    return render_template(\"index.html\")\n",
    "\n",
    "The index.html template might look something like this:\n",
    "    \n",
    "<!DOCTYPE html>\n",
    "<html>\n",
    "<head>\n",
    "    <title>My Flask App</title>\n",
    "</head>\n",
    "<body>\n",
    "    <h1>Hello, {{ name }}!</h1>\n",
    "</body>\n",
    "</html>"
   ]
  },
  {
   "cell_type": "code",
   "execution_count": null,
   "id": "249ed280-ec26-488e-a381-a4c8d202e66c",
   "metadata": {},
   "outputs": [],
   "source": [
    "Q5. Create a simple API. Use Postman to test it. Attach the screenshot of the output in the Jupyter Notebook.\n",
    "\n",
    "from flask import Flask,render_template, request, jsonify\n",
    "\n",
    "app = Flask(__name__)\n",
    "\n",
    "@app.route(\"/\", methods=['GET','POST'])\n",
    "def home_page():\n",
    "    return render_template('index.html')\n",
    "\n",
    "@app.route('/postman_data',methods=['POST'])\n",
    "def math_operation_1():\n",
    "    if(request.method=='POST'):\n",
    "        ops= request.json['operation']\n",
    "        num1= int(request.json['num1'])\n",
    "        num2= int(request.json['num2'])\n",
    "        if(ops=='add'):\n",
    "            r=num1+num2\n",
    "            result='the sum of ' +str(num1)+ ' and '+str(num2)+ ' is '+str(r)\n",
    "        if(ops=='subtract'):\n",
    "            r=num1-num2\n",
    "            result='the difference of ' +str(num1)+ ' and '+str(num2)+ ' is '+str(r) \n",
    "        if(ops=='multiply'):\n",
    "            r=num1*num2\n",
    "            result='the product of ' +str(num1)+ ' and '+str(num2)+ ' is '+str(r)\n",
    "        if(ops=='divide'):\n",
    "            r=num1/num2\n",
    "            result='the remainder of ' +str(num1)+ ' and '+str(num2)+ ' is '+str(r)\n",
    "        if(ops=='log'):\n",
    "            r=num1+num2\n",
    "            result='the log of ' +str(num1)+ ' and '+str(num2)+ ' is '+str(r)\n",
    "\n",
    "        return jsonify(result)\n",
    "\n",
    "if __name__==\"__main__\":\n",
    "    app.run(host=\"0.0.0.0\")"
   ]
  },
  {
   "cell_type": "code",
   "execution_count": 7,
   "id": "c00db7fc-1103-4eb3-af42-695fe0c04e76",
   "metadata": {},
   "outputs": [
    {
     "data": {
      "text/html": [
       "<img src=\"POSTMAN.png\" width=\"1366\" height=\"768\"/>"
      ],
      "text/plain": [
       "<IPython.core.display.Image object>"
      ]
     },
     "execution_count": 7,
     "metadata": {},
     "output_type": "execute_result"
    }
   ],
   "source": [
    "from IPython.display import Image \n",
    "Image(url=\"POSTMAN.png\", width=1366, height=768)"
   ]
  },
  {
   "cell_type": "code",
   "execution_count": null,
   "id": "a5f347c5-7dba-4079-a0ba-b4ff4aef8ff4",
   "metadata": {},
   "outputs": [],
   "source": []
  }
 ],
 "metadata": {
  "kernelspec": {
   "display_name": "Python 3 (ipykernel)",
   "language": "python",
   "name": "python3"
  },
  "language_info": {
   "codemirror_mode": {
    "name": "ipython",
    "version": 3
   },
   "file_extension": ".py",
   "mimetype": "text/x-python",
   "name": "python",
   "nbconvert_exporter": "python",
   "pygments_lexer": "ipython3",
   "version": "3.10.8"
  }
 },
 "nbformat": 4,
 "nbformat_minor": 5
}
